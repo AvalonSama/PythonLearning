#%% Change working directory from the workspace root to the ipynb file location. Turn this addition off with the DataScience.changeDirOnImportExport setting
import os
try:
	os.chdir(os.path.join(os.getcwd(), 'Pytorch'))
	print(os.getcwd())
except:
	pass

#%%
import torch

#%% [markdown]
# 用requires_grad确定是否参与求导

#%%
x = torch.ones(2,2,requires_grad = True)
z = torch.ones(2,1,requires_grad = True)
print(z)


#%%
y = x.mm(z)+2 #mm是矩阵相乘
#y = x-z+2
print(y) #此处y带着反向求导的函数 即AddBackward0
y.backward(torch.tensor([[1.0,],[2.0]])) #由于向量对向量求导产生的是雅可比矩阵，无法直接落到某一个向量上，因此需要一个向量参数使得两边形状相同
print(z.grad)
z.grad.data.zero_()

#%% [markdown]
# 用with torch.no_grad() 可以使得变量不参与求导

#%%
print(x.requires_grad)
print((x**2).requires_grad)
with torch.no_grad():
    print((x*x).requires_grad)


