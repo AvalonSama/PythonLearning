{
 "cells": [
  {
   "cell_type": "code",
   "execution_count": 1,
   "metadata": {},
   "outputs": [],
   "source": [
    "import torch\n",
    "def input_reverse(inputs, input_mask):\n",
    "    now_batch_size, now_seq_len, now_input_size = inputs.size()\n",
    "    revers_inputs = []\n",
    "    for i in range(now_batch_size):\n",
    "        index = torch.max(torch.nonzero(input_mask[i]))\n",
    "        temp_input_mask = input_mask[i]\n",
    "        temp_input_mask = temp_input_mask.byte().unsqueeze(-1)\n",
    "        temp_input_mask.expand_as(inputs)\n",
    "        temp_inputs = torch.masked_select(inputs[i], temp_input_mask)\n",
    "        temp_inputs = torch.flip(temp_inputs, dims = [0]).view(-1,now_input_size)\n",
    "        padding = inputs[i][index+1:]\n",
    "        now_inputs = torch.cat((temp_inputs, padding))\n",
    "\n",
    "        revers_inputs.append(now_inputs)\n",
    "    revers_inputs = torch.stack(revers_inputs)\n",
    "    return revers_inputs"
   ]
  },
  {
   "cell_type": "code",
   "execution_count": 2,
   "metadata": {
    "scrolled": false
   },
   "outputs": [
    {
     "data": {
      "text/plain": [
       "tensor([[[3, 3, 3],\n",
       "         [2, 2, 2],\n",
       "         [1, 1, 1],\n",
       "         [0, 0, 0],\n",
       "         [0, 0, 0],\n",
       "         [0, 0, 0]],\n",
       "\n",
       "        [[4, 4, 4],\n",
       "         [0, 0, 0],\n",
       "         [0, 0, 0],\n",
       "         [0, 0, 0],\n",
       "         [0, 0, 0],\n",
       "         [0, 0, 0]],\n",
       "\n",
       "        [[6, 6, 6],\n",
       "         [5, 5, 5],\n",
       "         [0, 0, 0],\n",
       "         [0, 0, 0],\n",
       "         [0, 0, 0],\n",
       "         [0, 0, 0]]])"
      ]
     },
     "execution_count": 2,
     "metadata": {},
     "output_type": "execute_result"
    }
   ],
   "source": [
    "inputs = torch.tensor([[[1,1,1],[2,2,2],[3,3,3],[0,0,0],[0,0,0],[0,0,0]],[[4,4,4],[0,0,0],[0,0,0],[0,0,0],[0,0,0],[0,0,0]],\\\n",
    "                       [[5,5,5],[6,6,6],[0,0,0],[0,0,0],[0,0,0],[0,0,0]]])\n",
    "input_mask = torch.tensor([[1,1,1,0,0,0],[1,0,0,0,0,0],[1,1,0,0,0,0]])\n",
    "\n",
    "input_reverse(inputs, input_mask)\n"
   ]
  },
  {
   "cell_type": "code",
   "execution_count": 3,
   "metadata": {},
   "outputs": [
    {
     "data": {
      "text/plain": [
       "tensor([[3, 4, 5],\n",
       "        [3, 4, 5]])"
      ]
     },
     "execution_count": 3,
     "metadata": {},
     "output_type": "execute_result"
    }
   ],
   "source": [
    "def get_mask_pos(inputs, input_mask):\n",
    "    '''\n",
    "    inputs: [batchsize, max_seq_len, hidden_size]\n",
    "    input_mask: [batchsize, max_seq_len]\n",
    "    '''\n",
    "    inputs = inputs.view(-1,3)\n",
    "    input_mask =  input_mask.view(-1).squeeze()\n",
    "    index = torch.nonzero(input_mask).squeeze()\n",
    "    return inputs[index]\n",
    "\n",
    "inputs = torch.tensor([[[1,2,3],[2,3,4],[3,4,5],[4,5,6]],[[2,3,4],[3,4,5],[4,5,6],[5,6,7]]])\n",
    "input_mask = torch.tensor([[0,0,1,0],[0,1,0,0]])\n",
    "\n",
    "get_mask_pos(inputs, input_mask)"
   ]
  }
 ],
 "metadata": {
  "kernelspec": {
   "display_name": "Python 3",
   "language": "python",
   "name": "python3"
  },
  "language_info": {
   "codemirror_mode": {
    "name": "ipython",
    "version": 3
   },
   "file_extension": ".py",
   "mimetype": "text/x-python",
   "name": "python",
   "nbconvert_exporter": "python",
   "pygments_lexer": "ipython3",
   "version": "3.6.5"
  }
 },
 "nbformat": 4,
 "nbformat_minor": 2
}
