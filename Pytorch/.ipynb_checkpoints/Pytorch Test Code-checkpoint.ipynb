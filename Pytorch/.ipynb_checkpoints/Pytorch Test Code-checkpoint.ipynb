{
 "cells": [
  {
   "cell_type": "code",
   "execution_count": 28,
   "metadata": {},
   "outputs": [],
   "source": [
    "import torch\n",
    "def input_reverse(inputs, input_mask):\n",
    "    now_batch_size, now_seq_len, now_input_size = inputs.size()\n",
    "    revers_inputs = []\n",
    "    for i in range(now_batch_size):\n",
    "        index = torch.max(torch.nonzero(input_mask[i]))\n",
    "        temp_input_mask = input_mask[i]\n",
    "        temp_input_mask = temp_input_mask.byte().unsqueeze(-1)\n",
    "        temp_input_mask.expand_as(inputs)\n",
    "        temp_inputs = torch.masked_select(inputs[i], temp_input_mask)\n",
    "        temp_inputs = torch.flip(temp_inputs, dims = [0]).view(-1,now_input_size)\n",
    "        padding = inputs[i][index+1:]\n",
    "        now_inputs = torch.cat((temp_inputs, padding))\n",
    "\n",
    "        revers_inputs.append(now_inputs)\n",
    "    revers_inputs = torch.stack(revers_inputs)\n",
    "    return revers_inputs"
   ]
  },
  {
   "cell_type": "code",
   "execution_count": 29,
   "metadata": {},
   "outputs": [
    {
     "name": "stdout",
     "output_type": "stream",
     "text": [
      "tensor([[3, 3, 3],\n",
      "        [2, 2, 2],\n",
      "        [1, 1, 1]])\n",
      "tensor([[0, 0, 0],\n",
      "        [0, 0, 0],\n",
      "        [0, 0, 0]])\n",
      "tensor([[4, 4, 4]])\n",
      "tensor([[0, 0, 0],\n",
      "        [0, 0, 0],\n",
      "        [0, 0, 0],\n",
      "        [0, 0, 0],\n",
      "        [0, 0, 0]])\n",
      "tensor([[6, 6, 6],\n",
      "        [5, 5, 5]])\n",
      "tensor([[0, 0, 0],\n",
      "        [0, 0, 0],\n",
      "        [0, 0, 0],\n",
      "        [0, 0, 0]])\n"
     ]
    },
    {
     "data": {
      "text/plain": [
       "tensor([[[3, 3, 3],\n",
       "         [2, 2, 2],\n",
       "         [1, 1, 1],\n",
       "         [0, 0, 0],\n",
       "         [0, 0, 0],\n",
       "         [0, 0, 0]],\n",
       "\n",
       "        [[4, 4, 4],\n",
       "         [0, 0, 0],\n",
       "         [0, 0, 0],\n",
       "         [0, 0, 0],\n",
       "         [0, 0, 0],\n",
       "         [0, 0, 0]],\n",
       "\n",
       "        [[6, 6, 6],\n",
       "         [5, 5, 5],\n",
       "         [0, 0, 0],\n",
       "         [0, 0, 0],\n",
       "         [0, 0, 0],\n",
       "         [0, 0, 0]]])"
      ]
     },
     "execution_count": 29,
     "metadata": {},
     "output_type": "execute_result"
    }
   ],
   "source": [
    "inputs = torch.tensor([[[1,1,1],[2,2,2],[3,3,3],[0,0,0],[0,0,0],[0,0,0]],[[4,4,4],[0,0,0],[0,0,0],[0,0,0],[0,0,0],[0,0,0]],\\\n",
    "                       [[5,5,5],[6,6,6],[0,0,0],[0,0,0],[0,0,0],[0,0,0]]])\n",
    "input_mask = torch.tensor([[1,1,1,0,0,0],[1,0,0,0,0,0],[1,1,0,0,0,0]])\n",
    "\n",
    "input_reverse(inputs, input_mask)\n"
   ]
  },
  {
   "cell_type": "code",
   "execution_count": null,
   "metadata": {},
   "outputs": [],
   "source": []
  }
 ],
 "metadata": {
  "kernelspec": {
   "display_name": "Python 3",
   "language": "python",
   "name": "python3"
  },
  "language_info": {
   "codemirror_mode": {
    "name": "ipython",
    "version": 3
   },
   "file_extension": ".py",
   "mimetype": "text/x-python",
   "name": "python",
   "nbconvert_exporter": "python",
   "pygments_lexer": "ipython3",
   "version": "3.6.5"
  }
 },
 "nbformat": 4,
 "nbformat_minor": 2
}
